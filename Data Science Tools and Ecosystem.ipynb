{
 "cells": [
  {
   "cell_type": "markdown",
   "id": "84fcf1b0",
   "metadata": {},
   "source": [
    "# Data Science Tools and Ecosystem"
   ]
  },
  {
   "cell_type": "markdown",
   "id": "5bbb45f2",
   "metadata": {},
   "source": [
    "#### In this notebook, Data Science Tools and Ecosystem are summarized."
   ]
  },
  {
   "cell_type": "markdown",
   "id": "3ce7f561",
   "metadata": {},
   "source": [
    "Some of the popular languages that Data Scientists use are:\n",
    "1. Python\n",
    "2. R\n",
    "3. SQL\n"
   ]
  },
  {
   "cell_type": "markdown",
   "id": "1a4ad082",
   "metadata": {},
   "source": [
    "Some of the commonly used libraries used by Data Scientists include:\n",
    "1. pandas\n",
    "2. scikit-learn\n",
    "3. TensorFlow"
   ]
  },
  {
   "cell_type": "markdown",
   "id": "dccf1205",
   "metadata": {},
   "source": [
    "|                     Data Science Tools                     |\n",
    "|------------------------------------------------------------|\n",
    "| Jupyter Notebook                                           |\n",
    "| RStudio                                                    |\n",
    "| Apache Spark                                               |"
   ]
  },
  {
   "cell_type": "markdown",
   "id": "3549f6df",
   "metadata": {},
   "source": [
    "### Below are a few examples of evaluating arithmetic expressions in Python"
   ]
  },
  {
   "cell_type": "code",
   "execution_count": 20,
   "id": "4dd8ed02",
   "metadata": {},
   "outputs": [
    {
     "data": {
      "text/plain": [
       "6"
      ]
     },
     "execution_count": 20,
     "metadata": {},
     "output_type": "execute_result"
    }
   ],
   "source": [
    "# Suma de dos números\n",
    "sum_result = 7 + 3\n",
    "sum_result\n",
    "\n",
    "# Resta de dos números\n",
    "difference_result = 10 - 4\n",
    "difference_result"
   ]
  },
  {
   "cell_type": "code",
   "execution_count": 21,
   "id": "09372347",
   "metadata": {},
   "outputs": [
    {
     "data": {
      "text/plain": [
       "5.0"
      ]
     },
     "execution_count": 21,
     "metadata": {},
     "output_type": "execute_result"
    }
   ],
   "source": [
    "# Multiplicación de dos números\n",
    "product_result = 6 * 8\n",
    "product_result\n",
    "\n",
    "# División de dos números\n",
    "division_result = 20 / 4\n",
    "division_result"
   ]
  },
  {
   "cell_type": "code",
   "execution_count": 22,
   "id": "25315ece",
   "metadata": {},
   "outputs": [
    {
     "data": {
      "text/plain": [
       "3.3333333333333335"
      ]
     },
     "execution_count": 22,
     "metadata": {},
     "output_type": "execute_result"
    }
   ],
   "source": [
    "# This code converts 200 minutes into hours.\n",
    "# Conversion is done by dividing the number of minutes by 60.\n",
    "minutes = 200\n",
    "hours = minutes / 60\n",
    "hours"
   ]
  },
  {
   "cell_type": "markdown",
   "id": "a0ca63ae",
   "metadata": {},
   "source": [
    "## Create a code cell to convert minutes to hours"
   ]
  },
  {
   "cell_type": "code",
   "execution_count": 23,
   "id": "5319f66d",
   "metadata": {},
   "outputs": [
    {
     "data": {
      "text/plain": [
       "1"
      ]
     },
     "execution_count": 23,
     "metadata": {},
     "output_type": "execute_result"
    }
   ],
   "source": [
    "# Exponente (potenciación)\n",
    "exponent_result = 2 ** 3  # 2 elevado a la 3ª potencia\n",
    "exponent_result\n",
    "\n",
    "# Módulo (residuo de la división)\n",
    "modulo_result = 10 % 3  # Residuo de 10 dividido por 3\n",
    "modulo_result"
   ]
  },
  {
   "cell_type": "markdown",
   "id": "3a40931d",
   "metadata": {},
   "source": [
    "**Objectives:**\n",
    "\n",
    "- **Create a Jupyter notebook:** Learn to set up and work with Jupyter notebooks effectively.\n",
    "- **Use Markdown to add titles and introductions:** Master Markdown syntax for clear and structured documentation.\n",
    "- **Demonstrate arithmetic operations:** Show examples of basic arithmetic operations and their implementations in Python.\n",
    "- **Convert units in Python:** Understand and apply unit conversion in Python for practical data analysis.\n",
    "- **Understand data science tools:** Get familiar with the tools and libraries commonly used in the data science ecosystem."
   ]
  },
  {
   "cell_type": "markdown",
   "id": "43077a07",
   "metadata": {},
   "source": [
    "## Author\n",
    "\n",
    "Frank Luis Oncebay Guerra"
   ]
  },
  {
   "cell_type": "code",
   "execution_count": null,
   "id": "de067ed4",
   "metadata": {},
   "outputs": [],
   "source": []
  }
 ],
 "metadata": {
  "kernelspec": {
   "display_name": "Python 3 (ipykernel)",
   "language": "python",
   "name": "python3"
  },
  "language_info": {
   "codemirror_mode": {
    "name": "ipython",
    "version": 3
   },
   "file_extension": ".py",
   "mimetype": "text/x-python",
   "name": "python",
   "nbconvert_exporter": "python",
   "pygments_lexer": "ipython3",
   "version": "3.10.10"
  }
 },
 "nbformat": 4,
 "nbformat_minor": 5
}
